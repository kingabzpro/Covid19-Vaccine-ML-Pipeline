{
 "cells": [
  {
   "cell_type": "code",
   "execution_count": 1,
   "metadata": {},
   "outputs": [
    {
     "name": "stderr",
     "output_type": "stream",
     "text": [
      "/opt/conda/lib/python3.7/site-packages/requests/__init__.py:91: RequestsDependencyWarning: urllib3 (1.26.6) or chardet (3.0.4) doesn't match a supported version!\n",
      "  RequestsDependencyWarning)\n"
     ]
    },
    {
     "name": "stderr",
     "output_type": "stream",
     "text": [
      "Matplotlib is building the font cache; this may take a moment.\n"
     ]
    }
   ],
   "source": [
    "import orchest\n",
    "import seaborn as sns\n",
    "import matplotlib.pyplot as plt\n",
    "from sklearn.ensemble import RandomForestClassifier,VotingClassifier\n",
    "from sklearn.metrics import roc_auc_score,accuracy_score,classification_report,confusion_matrix"
   ]
  },
  {
   "cell_type": "code",
   "execution_count": 2,
   "metadata": {},
   "outputs": [],
   "source": [
    "data = orchest.get_inputs()\n",
    "lgbm, pred_lgbm, X_train, y_train, X_test, y_test = data[\"lgbm\"]\n",
    "cat, pred_cat = data[\"catboost\"]\n",
    "nb, pred_nb = data[\"nb\"]\n",
    "rf, pred_rf = data[\"rf\"]"
   ]
  },
  {
   "cell_type": "code",
   "execution_count": 3,
   "metadata": {},
   "outputs": [
    {
     "name": "stdout",
     "output_type": "stream",
     "text": [
      "AUC score: 0.933109363652914\n"
     ]
    }
   ],
   "source": [
    "model = VotingClassifier(\n",
    "    estimators=[(\"cat\", cat), (\"RF\", rf), (\"NB\", nb), (\"LGBM\", lgbm)],\n",
    "    voting=\"hard\",\n",
    ")\n",
    "model.fit(X_train, y_train)\n",
    "\n",
    "# Make predictions\n",
    "y_pred = model.predict(X_test)\n",
    "auc_score = roc_auc_score(y_test, y_pred)\n",
    "# Check the ROC score of the model\n",
    "print(\"AUC score:\", auc_score)"
   ]
  },
  {
   "cell_type": "code",
   "execution_count": 4,
   "metadata": {},
   "outputs": [
    {
     "name": "stdout",
     "output_type": "stream",
     "text": [
      "Accuracy Score: 0.9327512977819726\n"
     ]
    }
   ],
   "source": [
    "accuracy_score = accuracy_score(y_test,y_pred)\n",
    "print(\"Accuracy Score:\",accuracy_score)"
   ]
  },
  {
   "cell_type": "markdown",
   "metadata": {},
   "source": [
    "### Confusion matrix\n",
    "Fewer mistakes made by the model and close to perfection."
   ]
  },
  {
   "cell_type": "code",
   "execution_count": 5,
   "metadata": {},
   "outputs": [
    {
     "data": {
      "text/plain": [
       "Text(68.09375, 0.5, 'Actual')"
      ]
     },
     "execution_count": 5,
     "metadata": {},
     "output_type": "execute_result"
    },
    {
     "data": {
      "image/png": "[encoded data removed]",
      "text/plain": [
       "<Figure size 720x720 with 2 Axes>"
      ]
     },
     "metadata": {
      "needs_background": "light"
     },
     "output_type": "display_data"
    }
   ],
   "source": [
    "plt.figure(figsize=(10, 10))\n",
    "cm = confusion_matrix(y_test, y_pred)\n",
    "sns.heatmap(\n",
    "    cm,\n",
    "    cmap=\"Blues\",\n",
    "    linecolor=\"black\",\n",
    "    linewidth=1,\n",
    "    annot=True,\n",
    "    fmt=\"\",\n",
    "    xticklabels=[\"Covid_Negative\", \"Covid_Positive\"],\n",
    "    yticklabels=[\"Covid_Negative\", \"Covid_Positive\"],\n",
    ")\n",
    "plt.xlabel(\"Predicted\")\n",
    "plt.ylabel(\"Actual\")\n"
   ]
  },
  {
   "cell_type": "code",
   "execution_count": 6,
   "metadata": {},
   "outputs": [],
   "source": [
    "orchest.output((auc_score,accuracy_score),name='ensemble')"
   ]
  }
 ],
 "metadata": {
  "kernelspec": {
   "display_name": "Python 3",
   "language": "python",
   "name": "orchest-kernel-4e3e3b13-882e-47db-b8f2-03a87620ea0d"
  },
  "language_info": {
   "codemirror_mode": {
    "name": "ipython",
    "version": 3
   },
   "file_extension": ".py",
   "mimetype": "text/x-python",
   "name": "python",
   "nbconvert_exporter": "python",
   "pygments_lexer": "ipython3",
   "version": "3.7.6"
  }
 },
 "nbformat": 4,
 "nbformat_minor": 4
}
