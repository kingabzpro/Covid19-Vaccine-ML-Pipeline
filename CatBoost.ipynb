{
 "cells": [
  {
   "cell_type": "code",
   "execution_count": null,
   "metadata": {},
   "outputs": [],
   "source": [
    "import orchest\n",
    "from catboost import CatBoostClassifier\n",
    "from sklearn.metrics import roc_auc_score"
   ]
  },
  {
   "cell_type": "code",
   "execution_count": null,
   "metadata": {},
   "outputs": [],
   "source": [
    "data = orchest.get_inputs()\n",
    "X_train, y_train, X_test, y_test = data[\"training_data\"]"
   ]
  },
  {
   "cell_type": "code",
   "execution_count": null,
   "metadata": {},
   "outputs": [],
   "source": [
    "cat = CatBoostClassifier(\n",
    "    iterations=250,\n",
    "    od_type=\"Iter\",\n",
    "    l2_leaf_reg=5,\n",
    "    learning_rate=0.95,\n",
    "    verbose=0,\n",
    "    depth=10,)\n",
    "cat.fit(X_train, Y_train)\n",
    "\n",
    "cat_pred = cat.predict(X_valid)\n",
    "print(\"AUC score :\", roc_auc_score(cat_pred, Y_valid))"
   ]
  },
  {
   "cell_type": "code",
   "execution_count": null,
   "metadata": {},
   "outputs": [],
   "source": [
    "orchest.output(cat, name=\"catboost\")"
   ]
  }
 ],
 "metadata": {
  "kernelspec": {
   "display_name": "Python 3",
   "language": "python",
   "name": "orchest-kernel-4e3e3b13-882e-47db-b8f2-03a87620ea0d"
  },
  "language_info": {
   "codemirror_mode": {
    "name": "ipython",
    "version": 3
   },
   "file_extension": ".py",
   "mimetype": "text/x-python",
   "name": "python",
   "nbconvert_exporter": "python",
   "pygments_lexer": "ipython3",
   "version": "3.7.6"
  }
 },
 "nbformat": 4,
 "nbformat_minor": 4
}
