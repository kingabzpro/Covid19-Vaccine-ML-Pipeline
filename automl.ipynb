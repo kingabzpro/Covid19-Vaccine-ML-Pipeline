{
 "cells": [
  {
   "cell_type": "markdown",
   "metadata": {},
   "source": [
    "## EvalML: AutoML\n",
    "\n",
    "EvalML is an AutoML library which builds, optimizes, and evaluates machine learning pipelines using domain-specific objective functions.\n",
    "\n",
    "**Key Functionality**\n",
    "\n",
    "- Automation - Makes machine learning easier. Avoid training and tuning models by hand. Includes data quality checks, cross-validation and more.\n",
    "- Data Checks - Catches and warns of problems with your data and problem setup before modeling.\n",
    "- End-to-end - Constructs and optimizes pipelines that include state-of-the-art preprocessing, feature engineering, feature selection, and a variety of modeling techniques.\n",
    "- Model Understanding - Provides tools to understand and introspect on models, to learn how they'll behave in your problem domain.\n",
    "- Domain-specific - Includes repository of domain-specific objective functions and an interface to define your own."
   ]
  },
  {
   "cell_type": "code",
   "execution_count": 7,
   "metadata": {},
   "outputs": [],
   "source": [
    "import orchest\n",
    "## EVALML\n",
    "from evalml.automl import AutoMLSearch\n",
    "from sklearn.model_selection import train_test_split\n",
    "from sklearn.metrics import roc_auc_score\n",
    "import warnings\n",
    "\n",
    "warnings.filterwarnings(\"ignore\")\n"
   ]
  },
  {
   "cell_type": "code",
   "execution_count": 8,
   "metadata": {},
   "outputs": [],
   "source": [
    "data = orchest.get_inputs()  # data = [(df_data, df_target)]\n",
    "bcell, covid, sars, bcell_sars = data[\"data\"]"
   ]
  },
  {
   "cell_type": "code",
   "execution_count": 9,
   "metadata": {},
   "outputs": [],
   "source": [
    "X = bcell_sars.drop(\n",
    "    [\"target\", \"parent_protein_id\", \"protein_seq\", \"peptide_seq\"], axis=1\n",
    ")\n",
    "y = bcell_sars[\"target\"]"
   ]
  },
  {
   "cell_type": "code",
   "execution_count": 10,
   "metadata": {},
   "outputs": [],
   "source": [
    "X_train, X_test, y_train, y_test = train_test_split(X, y, test_size = 0.2)"
   ]
  },
  {
   "cell_type": "code",
   "execution_count": 11,
   "metadata": {},
   "outputs": [
    {
     "name": "stdout",
     "output_type": "stream",
     "text": [
      "Generating pipelines to search over...\n"
     ]
    },
    {
     "name": "stderr",
     "output_type": "stream",
     "text": [
      "[I 2021-08-19 10:14:50,884.884 /opt/conda/lib/python3.7/site-packages/evalml/automl/automl_search.py] Generating pipelines to search over...\n",
      "[D 2021-08-19 10:14:51,307.307 /opt/conda/lib/python3.7/site-packages/evalml/utils/gen_utils.py] Could not import class ProphetRegressor in get_importable_subclasses\n"
     ]
    },
    {
     "name": "stdout",
     "output_type": "stream",
     "text": [
      "8 pipelines ready for search.\n",
      "CPU times: user 673 ms, sys: 194 ms, total: 867 ms\n",
      "Wall time: 969 ms\n"
     ]
    },
    {
     "name": "stderr",
     "output_type": "stream",
     "text": [
      "[D 2021-08-19 10:14:51,618.618 /opt/conda/lib/python3.7/site-packages/evalml/utils/gen_utils.py] Could not import class ProphetRegressor in get_importable_subclasses\n",
      "[D 2021-08-19 10:14:51,621.621 /opt/conda/lib/python3.7/site-packages/evalml/utils/gen_utils.py] Could not import class ProphetRegressor in get_importable_subclasses\n",
      "[D 2021-08-19 10:14:51,622.622 /opt/conda/lib/python3.7/site-packages/evalml/automl/automl_search.py] allowed_estimators set to ['Decision Tree Classifier', 'LightGBM Classifier', 'Extra Trees Classifier', 'Elastic Net Classifier', 'CatBoost Classifier', 'XGBoost Classifier', 'Random Forest Classifier', 'Logistic Regression Classifier']\n",
      "[D 2021-08-19 10:14:51,631.631 /opt/conda/lib/python3.7/site-packages/evalml/utils/gen_utils.py] Could not import class ProphetRegressor in get_importable_subclasses\n",
      "[D 2021-08-19 10:14:51,634.634 /opt/conda/lib/python3.7/site-packages/evalml/utils/gen_utils.py] Could not import class ProphetRegressor in get_importable_subclasses\n",
      "[D 2021-08-19 10:14:51,636.636 /opt/conda/lib/python3.7/site-packages/evalml/utils/gen_utils.py] Could not import class ProphetRegressor in get_importable_subclasses\n",
      "[D 2021-08-19 10:14:51,649.649 /opt/conda/lib/python3.7/site-packages/evalml/utils/gen_utils.py] Could not import class ProphetRegressor in get_importable_subclasses\n",
      "[D 2021-08-19 10:14:51,651.651 /opt/conda/lib/python3.7/site-packages/evalml/utils/gen_utils.py] Could not import class ProphetRegressor in get_importable_subclasses\n",
      "[D 2021-08-19 10:14:51,653.653 /opt/conda/lib/python3.7/site-packages/evalml/utils/gen_utils.py] Could not import class ProphetRegressor in get_importable_subclasses\n",
      "[D 2021-08-19 10:14:51,666.666 /opt/conda/lib/python3.7/site-packages/evalml/utils/gen_utils.py] Could not import class ProphetRegressor in get_importable_subclasses\n",
      "[D 2021-08-19 10:14:51,668.668 /opt/conda/lib/python3.7/site-packages/evalml/utils/gen_utils.py] Could not import class ProphetRegressor in get_importable_subclasses\n",
      "[D 2021-08-19 10:14:51,670.670 /opt/conda/lib/python3.7/site-packages/evalml/utils/gen_utils.py] Could not import class ProphetRegressor in get_importable_subclasses\n",
      "[D 2021-08-19 10:14:51,683.683 /opt/conda/lib/python3.7/site-packages/evalml/utils/gen_utils.py] Could not import class ProphetRegressor in get_importable_subclasses\n",
      "[D 2021-08-19 10:14:51,685.685 /opt/conda/lib/python3.7/site-packages/evalml/utils/gen_utils.py] Could not import class ProphetRegressor in get_importable_subclasses\n",
      "[D 2021-08-19 10:14:51,687.687 /opt/conda/lib/python3.7/site-packages/evalml/utils/gen_utils.py] Could not import class ProphetRegressor in get_importable_subclasses\n",
      "[D 2021-08-19 10:14:51,700.700 /opt/conda/lib/python3.7/site-packages/evalml/utils/gen_utils.py] Could not import class ProphetRegressor in get_importable_subclasses\n",
      "[D 2021-08-19 10:14:51,702.702 /opt/conda/lib/python3.7/site-packages/evalml/utils/gen_utils.py] Could not import class ProphetRegressor in get_importable_subclasses\n",
      "[D 2021-08-19 10:14:51,704.704 /opt/conda/lib/python3.7/site-packages/evalml/utils/gen_utils.py] Could not import class ProphetRegressor in get_importable_subclasses\n",
      "[D 2021-08-19 10:14:51,717.717 /opt/conda/lib/python3.7/site-packages/evalml/utils/gen_utils.py] Could not import class ProphetRegressor in get_importable_subclasses\n",
      "[D 2021-08-19 10:14:51,718.718 /opt/conda/lib/python3.7/site-packages/evalml/utils/gen_utils.py] Could not import class ProphetRegressor in get_importable_subclasses\n",
      "[D 2021-08-19 10:14:51,720.720 /opt/conda/lib/python3.7/site-packages/evalml/utils/gen_utils.py] Could not import class ProphetRegressor in get_importable_subclasses\n",
      "[D 2021-08-19 10:14:51,735.735 /opt/conda/lib/python3.7/site-packages/evalml/utils/gen_utils.py] Could not import class ProphetRegressor in get_importable_subclasses\n",
      "[D 2021-08-19 10:14:51,737.737 /opt/conda/lib/python3.7/site-packages/evalml/utils/gen_utils.py] Could not import class ProphetRegressor in get_importable_subclasses\n",
      "[D 2021-08-19 10:14:51,739.739 /opt/conda/lib/python3.7/site-packages/evalml/utils/gen_utils.py] Could not import class ProphetRegressor in get_importable_subclasses\n",
      "[D 2021-08-19 10:14:51,753.753 /opt/conda/lib/python3.7/site-packages/evalml/utils/gen_utils.py] Could not import class ProphetRegressor in get_importable_subclasses\n",
      "[D 2021-08-19 10:14:51,755.755 /opt/conda/lib/python3.7/site-packages/evalml/utils/gen_utils.py] Could not import class ProphetRegressor in get_importable_subclasses\n",
      "[D 2021-08-19 10:14:51,756.756 /opt/conda/lib/python3.7/site-packages/evalml/utils/gen_utils.py] Could not import class ProphetRegressor in get_importable_subclasses\n",
      "[I 2021-08-19 10:14:51,764.764 /opt/conda/lib/python3.7/site-packages/evalml/automl/automl_search.py] 8 pipelines ready for search.\n",
      "[D 2021-08-19 10:14:51,771.771 /opt/conda/lib/python3.7/site-packages/evalml/automl/automl_search.py] allowed_pipelines set to ['Decision Tree Classifier w/ Imputer', 'LightGBM Classifier w/ Imputer', 'Extra Trees Classifier w/ Imputer', 'Elastic Net Classifier w/ Imputer + Standard Scaler', 'CatBoost Classifier w/ Imputer', 'XGBoost Classifier w/ Imputer', 'Random Forest Classifier w/ Imputer', 'Logistic Regression Classifier w/ Imputer + Standard Scaler']\n",
      "[D 2021-08-19 10:14:51,771.771 /opt/conda/lib/python3.7/site-packages/evalml/automl/automl_search.py] allowed_model_families set to [ModelFamily.DECISION_TREE, ModelFamily.LIGHTGBM, ModelFamily.EXTRA_TREES, ModelFamily.LINEAR_MODEL, ModelFamily.XGBOOST, ModelFamily.RANDOM_FOREST, ModelFamily.CATBOOST]\n"
     ]
    }
   ],
   "source": [
    "%%time\n",
    "automl = AutoMLSearch(\n",
    "    X_train=X_train, \n",
    "    y_train=y_train, \n",
    "    problem_type='binary',\n",
    "    # random_seed=2021,\n",
    "    max_time=300,\n",
    ")"
   ]
  },
  {
   "cell_type": "code",
   "execution_count": 12,
   "metadata": {},
   "outputs": [
    {
     "name": "stdout",
     "output_type": "stream",
     "text": [
      "\n",
      "*****************************\n",
      "* Beginning pipeline search *\n",
      "*****************************\n",
      "\n",
      "Optimizing for Log Loss Binary. \n",
      "Lower score is better.\n",
      "\n",
      "Using SequentialEngine to train and score pipelines.\n",
      "Will stop searching for new pipelines after 300 seconds.\n",
      "\n",
      "Allowed model families: decision_tree, lightgbm, extra_trees, linear_model, xgboost, random_forest, catboost\n",
      "\n"
     ]
    },
    {
     "name": "stderr",
     "output_type": "stream",
     "text": [
      "[I 2021-08-19 10:14:51,825.825 /opt/conda/lib/python3.7/site-packages/evalml/automl/automl_search.py] \n",
      "*****************************\n",
      "[I 2021-08-19 10:14:51,830.830 /opt/conda/lib/python3.7/site-packages/evalml/automl/automl_search.py] * Beginning pipeline search *\n",
      "[I 2021-08-19 10:14:51,833.833 /opt/conda/lib/python3.7/site-packages/evalml/automl/automl_search.py] *****************************\n",
      "[I 2021-08-19 10:14:51,836.836 /opt/conda/lib/python3.7/site-packages/evalml/automl/automl_search.py] \n",
      "[I 2021-08-19 10:14:51,842.842 /opt/conda/lib/python3.7/site-packages/evalml/automl/automl_search.py] Optimizing for Log Loss Binary. \n",
      "[I 2021-08-19 10:14:51,846.846 /opt/conda/lib/python3.7/site-packages/evalml/automl/automl_search.py] Lower score is better.\n",
      "\n",
      "[I 2021-08-19 10:14:51,851.851 /opt/conda/lib/python3.7/site-packages/evalml/automl/automl_search.py] Using SequentialEngine to train and score pipelines.\n",
      "[I 2021-08-19 10:14:51,854.854 /opt/conda/lib/python3.7/site-packages/evalml/automl/automl_search.py] Will stop searching for new pipelines after 300 seconds.\n",
      "\n",
      "[I 2021-08-19 10:14:51,856.856 /opt/conda/lib/python3.7/site-packages/evalml/automl/automl_search.py] Allowed model families: decision_tree, lightgbm, extra_trees, linear_model, xgboost, random_forest, catboost\n",
      "\n"
     ]
    },
    {
     "data": {
      "application/vnd.jupyter.widget-view+json": {
       "model_id": "2e4ed9433af4448cbc6773c135e2086d",
       "version_major": 2,
       "version_minor": 0
      },
      "text/plain": [
       "FigureWidget({\n",
       "    'data': [{'mode': 'lines+markers',\n",
       "              'name': 'Best Score',\n",
       "              'type'…"
      ]
     },
     "metadata": {},
     "output_type": "display_data"
    },
    {
     "name": "stdout",
     "output_type": "stream",
     "text": [
      "Evaluating Baseline Pipeline: Mode Baseline Binary Classification Pipeline\n"
     ]
    },
    {
     "name": "stderr",
     "output_type": "stream",
     "text": [
      "[D 2021-08-19 10:14:52,411.411 /opt/conda/lib/python3.7/site-packages/evalml/utils/gen_utils.py] Could not import class ProphetRegressor in get_importable_subclasses\n",
      "[D 2021-08-19 10:14:52,479.479 /opt/conda/lib/python3.7/site-packages/evalml/utils/gen_utils.py] Could not import class ProphetRegressor in get_importable_subclasses\n",
      "[I 2021-08-19 10:14:52,481.481 /opt/conda/lib/python3.7/site-packages/evalml/automl/automl_search.py] Evaluating Baseline Pipeline: Mode Baseline Binary Classification Pipeline\n"
     ]
    },
    {
     "name": "stdout",
     "output_type": "stream",
     "text": [
      "Mode Baseline Binary Classification Pipeline:\n",
      "\tStarting cross validation\n",
      "\tFinished cross validation - mean Log Loss Binary: 9.303\n",
      "\n",
      "*****************************\n",
      "* Evaluating Batch Number 1 *\n",
      "*****************************\n",
      "\n"
     ]
    },
    {
     "name": "stderr",
     "output_type": "stream",
     "text": [
      "[I 2021-08-19 10:14:54,654.654 /opt/conda/lib/python3.7/site-packages/evalml/automl/automl_search.py] Mode Baseline Binary Classification Pipeline:\n",
      "[I 2021-08-19 10:14:54,656.656 /opt/conda/lib/python3.7/site-packages/evalml/automl/automl_search.py] \tStarting cross validation\n",
      "[D 2021-08-19 10:14:54,658.658 /opt/conda/lib/python3.7/site-packages/evalml/automl/automl_search.py] \t\tTraining and scoring on fold 0\n",
      "[D 2021-08-19 10:14:54,658.658 /opt/conda/lib/python3.7/site-packages/evalml/automl/automl_search.py] \t\t\tFold 0: starting training\n",
      "[D 2021-08-19 10:14:54,659.659 /opt/conda/lib/python3.7/site-packages/evalml/automl/automl_search.py] \t\t\tFold 0: finished training\n",
      "[D 2021-08-19 10:14:54,659.659 /opt/conda/lib/python3.7/site-packages/evalml/automl/automl_search.py] \t\t\tFold 0: Optimal threshold found (0.000)\n",
      "[D 2021-08-19 10:14:54,659.659 /opt/conda/lib/python3.7/site-packages/evalml/automl/automl_search.py] \t\t\tFold 0: Scoring trained pipeline\n",
      "[D 2021-08-19 10:14:54,659.659 /opt/conda/lib/python3.7/site-packages/evalml/automl/automl_search.py] \t\t\tFold 0: Log Loss Binary score: 9.297\n",
      "[D 2021-08-19 10:14:54,659.659 /opt/conda/lib/python3.7/site-packages/evalml/automl/automl_search.py] \t\tTraining and scoring on fold 1\n",
      "[D 2021-08-19 10:14:54,659.659 /opt/conda/lib/python3.7/site-packages/evalml/automl/automl_search.py] \t\t\tFold 1: starting training\n",
      "[D 2021-08-19 10:14:54,660.660 /opt/conda/lib/python3.7/site-packages/evalml/automl/automl_search.py] \t\t\tFold 1: finished training\n",
      "[D 2021-08-19 10:14:54,660.660 /opt/conda/lib/python3.7/site-packages/evalml/automl/automl_search.py] \t\t\tFold 1: Optimal threshold found (0.000)\n",
      "[D 2021-08-19 10:14:54,660.660 /opt/conda/lib/python3.7/site-packages/evalml/automl/automl_search.py] \t\t\tFold 1: Scoring trained pipeline\n",
      "[D 2021-08-19 10:14:54,660.660 /opt/conda/lib/python3.7/site-packages/evalml/automl/automl_search.py] \t\t\tFold 1: Log Loss Binary score: 9.306\n",
      "[D 2021-08-19 10:14:54,660.660 /opt/conda/lib/python3.7/site-packages/evalml/automl/automl_search.py] \t\tTraining and scoring on fold 2\n",
      "[D 2021-08-19 10:14:54,661.661 /opt/conda/lib/python3.7/site-packages/evalml/automl/automl_search.py] \t\t\tFold 2: starting training\n",
      "[D 2021-08-19 10:14:54,661.661 /opt/conda/lib/python3.7/site-packages/evalml/automl/automl_search.py] \t\t\tFold 2: finished training\n",
      "[D 2021-08-19 10:14:54,661.661 /opt/conda/lib/python3.7/site-packages/evalml/automl/automl_search.py] \t\t\tFold 2: Optimal threshold found (0.000)\n",
      "[D 2021-08-19 10:14:54,661.661 /opt/conda/lib/python3.7/site-packages/evalml/automl/automl_search.py] \t\t\tFold 2: Scoring trained pipeline\n",
      "[D 2021-08-19 10:14:54,661.661 /opt/conda/lib/python3.7/site-packages/evalml/automl/automl_search.py] \t\t\tFold 2: Log Loss Binary score: 9.306\n",
      "[I 2021-08-19 10:14:54,662.662 /opt/conda/lib/python3.7/site-packages/evalml/automl/automl_search.py] \tFinished cross validation - mean Log Loss Binary: 9.303\n",
      "[I 2021-08-19 10:14:54,693.693 /opt/conda/lib/python3.7/site-packages/evalml/automl/automl_search.py] \n",
      "*****************************\n",
      "[I 2021-08-19 10:14:54,697.697 /opt/conda/lib/python3.7/site-packages/evalml/automl/automl_search.py] * Evaluating Batch Number 1 *\n",
      "[I 2021-08-19 10:14:54,699.699 /opt/conda/lib/python3.7/site-packages/evalml/automl/automl_search.py] *****************************\n",
      "[I 2021-08-19 10:14:54,704.704 /opt/conda/lib/python3.7/site-packages/evalml/automl/automl_search.py] \n"
     ]
    },
    {
     "name": "stdout",
     "output_type": "stream",
     "text": [
      "Elastic Net Classifier w/ Imputer + Standard Scaler:\n",
      "\tStarting cross validation\n",
      "\tFinished cross validation - mean Log Loss Binary: 0.556\n"
     ]
    },
    {
     "name": "stderr",
     "output_type": "stream",
     "text": [
      "[I 2021-08-19 10:14:57,553.553 /opt/conda/lib/python3.7/site-packages/evalml/automl/automl_search.py] Elastic Net Classifier w/ Imputer + Standard Scaler:\n",
      "[I 2021-08-19 10:14:57,556.556 /opt/conda/lib/python3.7/site-packages/evalml/automl/automl_search.py] \tStarting cross validation\n",
      "[D 2021-08-19 10:14:57,558.558 /opt/conda/lib/python3.7/site-packages/evalml/automl/automl_search.py] \t\tTraining and scoring on fold 0\n",
      "[D 2021-08-19 10:14:57,559.559 /opt/conda/lib/python3.7/site-packages/evalml/automl/automl_search.py] \t\t\tFold 0: starting training\n",
      "[D 2021-08-19 10:14:57,559.559 /opt/conda/lib/python3.7/site-packages/evalml/automl/automl_search.py] \t\t\tFold 0: finished training\n",
      "[D 2021-08-19 10:14:57,559.559 /opt/conda/lib/python3.7/site-packages/evalml/automl/automl_search.py] \t\t\tFold 0: Optimal threshold found (0.222)\n",
      "[D 2021-08-19 10:14:57,560.560 /opt/conda/lib/python3.7/site-packages/evalml/automl/automl_search.py] \t\t\tFold 0: Scoring trained pipeline\n",
      "[D 2021-08-19 10:14:57,560.560 /opt/conda/lib/python3.7/site-packages/evalml/automl/automl_search.py] \t\t\tFold 0: Log Loss Binary score: 0.553\n",
      "[D 2021-08-19 10:14:57,561.561 /opt/conda/lib/python3.7/site-packages/evalml/automl/automl_search.py] \t\tTraining and scoring on fold 1\n",
      "[D 2021-08-19 10:14:57,561.561 /opt/conda/lib/python3.7/site-packages/evalml/automl/automl_search.py] \t\t\tFold 1: starting training\n",
      "[D 2021-08-19 10:14:57,562.562 /opt/conda/lib/python3.7/site-packages/evalml/automl/automl_search.py] \t\t\tFold 1: finished training\n",
      "[D 2021-08-19 10:14:57,562.562 /opt/conda/lib/python3.7/site-packages/evalml/automl/automl_search.py] \t\t\tFold 1: Optimal threshold found (0.220)\n",
      "[D 2021-08-19 10:14:57,562.562 /opt/conda/lib/python3.7/site-packages/evalml/automl/automl_search.py] \t\t\tFold 1: Scoring trained pipeline\n",
      "[D 2021-08-19 10:14:57,563.563 /opt/conda/lib/python3.7/site-packages/evalml/automl/automl_search.py] \t\t\tFold 1: Log Loss Binary score: 0.555\n",
      "[D 2021-08-19 10:14:57,563.563 /opt/conda/lib/python3.7/site-packages/evalml/automl/automl_search.py] \t\tTraining and scoring on fold 2\n",
      "[D 2021-08-19 10:14:57,564.564 /opt/conda/lib/python3.7/site-packages/evalml/automl/automl_search.py] \t\t\tFold 2: starting training\n",
      "[D 2021-08-19 10:14:57,564.564 /opt/conda/lib/python3.7/site-packages/evalml/automl/automl_search.py] \t\t\tFold 2: finished training\n",
      "[D 2021-08-19 10:14:57,564.564 /opt/conda/lib/python3.7/site-packages/evalml/automl/automl_search.py] \t\t\tFold 2: Optimal threshold found (0.237)\n",
      "[D 2021-08-19 10:14:57,565.565 /opt/conda/lib/python3.7/site-packages/evalml/automl/automl_search.py] \t\t\tFold 2: Scoring trained pipeline\n",
      "[D 2021-08-19 10:14:57,566.566 /opt/conda/lib/python3.7/site-packages/evalml/automl/automl_search.py] \t\t\tFold 2: Log Loss Binary score: 0.560\n",
      "[I 2021-08-19 10:14:57,567.567 /opt/conda/lib/python3.7/site-packages/evalml/automl/automl_search.py] \tFinished cross validation - mean Log Loss Binary: 0.556\n"
     ]
    },
    {
     "name": "stdout",
     "output_type": "stream",
     "text": [
      "Decision Tree Classifier w/ Imputer:\n",
      "\tStarting cross validation\n",
      "\tFinished cross validation - mean Log Loss Binary: 0.594\n"
     ]
    },
    {
     "name": "stderr",
     "output_type": "stream",
     "text": [
      "[I 2021-08-19 10:14:59,017.017 /opt/conda/lib/python3.7/site-packages/evalml/automl/automl_search.py] Decision Tree Classifier w/ Imputer:\n",
      "[I 2021-08-19 10:14:59,019.019 /opt/conda/lib/python3.7/site-packages/evalml/automl/automl_search.py] \tStarting cross validation\n",
      "[D 2021-08-19 10:14:59,022.022 /opt/conda/lib/python3.7/site-packages/evalml/automl/automl_search.py] \t\tTraining and scoring on fold 0\n",
      "[D 2021-08-19 10:14:59,022.022 /opt/conda/lib/python3.7/site-packages/evalml/automl/automl_search.py] \t\t\tFold 0: starting training\n",
      "[D 2021-08-19 10:14:59,022.022 /opt/conda/lib/python3.7/site-packages/evalml/automl/automl_search.py] \t\t\tFold 0: finished training\n",
      "[D 2021-08-19 10:14:59,022.022 /opt/conda/lib/python3.7/site-packages/evalml/automl/automl_search.py] \t\t\tFold 0: Optimal threshold found (0.333)\n",
      "[D 2021-08-19 10:14:59,022.022 /opt/conda/lib/python3.7/site-packages/evalml/automl/automl_search.py] \t\t\tFold 0: Scoring trained pipeline\n",
      "[D 2021-08-19 10:14:59,023.023 /opt/conda/lib/python3.7/site-packages/evalml/automl/automl_search.py] \t\t\tFold 0: Log Loss Binary score: 0.534\n",
      "[D 2021-08-19 10:14:59,023.023 /opt/conda/lib/python3.7/site-packages/evalml/automl/automl_search.py] \t\tTraining and scoring on fold 1\n",
      "[D 2021-08-19 10:14:59,023.023 /opt/conda/lib/python3.7/site-packages/evalml/automl/automl_search.py] \t\t\tFold 1: starting training\n",
      "[D 2021-08-19 10:14:59,023.023 /opt/conda/lib/python3.7/site-packages/evalml/automl/automl_search.py] \t\t\tFold 1: finished training\n",
      "[D 2021-08-19 10:14:59,024.024 /opt/conda/lib/python3.7/site-packages/evalml/automl/automl_search.py] \t\t\tFold 1: Optimal threshold found (0.329)\n",
      "[D 2021-08-19 10:14:59,024.024 /opt/conda/lib/python3.7/site-packages/evalml/automl/automl_search.py] \t\t\tFold 1: Scoring trained pipeline\n",
      "[D 2021-08-19 10:14:59,024.024 /opt/conda/lib/python3.7/site-packages/evalml/automl/automl_search.py] \t\t\tFold 1: Log Loss Binary score: 0.633\n",
      "[D 2021-08-19 10:14:59,024.024 /opt/conda/lib/python3.7/site-packages/evalml/automl/automl_search.py] \t\tTraining and scoring on fold 2\n",
      "[D 2021-08-19 10:14:59,025.025 /opt/conda/lib/python3.7/site-packages/evalml/automl/automl_search.py] \t\t\tFold 2: starting training\n",
      "[D 2021-08-19 10:14:59,025.025 /opt/conda/lib/python3.7/site-packages/evalml/automl/automl_search.py] \t\t\tFold 2: finished training\n",
      "[D 2021-08-19 10:14:59,026.026 /opt/conda/lib/python3.7/site-packages/evalml/automl/automl_search.py] \t\t\tFold 2: Optimal threshold found (0.265)\n",
      "[D 2021-08-19 10:14:59,026.026 /opt/conda/lib/python3.7/site-packages/evalml/automl/automl_search.py] \t\t\tFold 2: Scoring trained pipeline\n",
      "[D 2021-08-19 10:14:59,026.026 /opt/conda/lib/python3.7/site-packages/evalml/automl/automl_search.py] \t\t\tFold 2: Log Loss Binary score: 0.615\n",
      "[I 2021-08-19 10:14:59,026.026 /opt/conda/lib/python3.7/site-packages/evalml/automl/automl_search.py] \tFinished cross validation - mean Log Loss Binary: 0.594\n"
     ]
    },
    {
     "name": "stdout",
     "output_type": "stream",
     "text": [
      "Random Forest Classifier w/ Imputer:\n",
      "\tStarting cross validation\n",
      "\tFinished cross validation - mean Log Loss Binary: 0.462\n"
     ]
    },
    {
     "name": "stderr",
     "output_type": "stream",
     "text": [
      "[I 2021-08-19 10:15:03,225.225 /opt/conda/lib/python3.7/site-packages/evalml/automl/automl_search.py] Random Forest Classifier w/ Imputer:\n",
      "[I 2021-08-19 10:15:03,227.227 /opt/conda/lib/python3.7/site-packages/evalml/automl/automl_search.py] \tStarting cross validation\n",
      "[D 2021-08-19 10:15:03,230.230 /opt/conda/lib/python3.7/site-packages/evalml/automl/automl_search.py] \t\tTraining and scoring on fold 0\n",
      "[D 2021-08-19 10:15:03,230.230 /opt/conda/lib/python3.7/site-packages/evalml/automl/automl_search.py] \t\t\tFold 0: starting training\n",
      "[D 2021-08-19 10:15:03,231.231 /opt/conda/lib/python3.7/site-packages/evalml/automl/automl_search.py] \t\t\tFold 0: finished training\n",
      "[D 2021-08-19 10:15:03,231.231 /opt/conda/lib/python3.7/site-packages/evalml/automl/automl_search.py] \t\t\tFold 0: Optimal threshold found (0.306)\n",
      "[D 2021-08-19 10:15:03,231.231 /opt/conda/lib/python3.7/site-packages/evalml/automl/automl_search.py] \t\t\tFold 0: Scoring trained pipeline\n",
      "[D 2021-08-19 10:15:03,231.231 /opt/conda/lib/python3.7/site-packages/evalml/automl/automl_search.py] \t\t\tFold 0: Log Loss Binary score: 0.459\n",
      "[D 2021-08-19 10:15:03,231.231 /opt/conda/lib/python3.7/site-packages/evalml/automl/automl_search.py] \t\tTraining and scoring on fold 1\n",
      "[D 2021-08-19 10:15:03,231.231 /opt/conda/lib/python3.7/site-packages/evalml/automl/automl_search.py] \t\t\tFold 1: starting training\n",
      "[D 2021-08-19 10:15:03,232.232 /opt/conda/lib/python3.7/site-packages/evalml/automl/automl_search.py] \t\t\tFold 1: finished training\n",
      "[D 2021-08-19 10:15:03,232.232 /opt/conda/lib/python3.7/site-packages/evalml/automl/automl_search.py] \t\t\tFold 1: Optimal threshold found (0.317)\n",
      "[D 2021-08-19 10:15:03,232.232 /opt/conda/lib/python3.7/site-packages/evalml/automl/automl_search.py] \t\t\tFold 1: Scoring trained pipeline\n",
      "[D 2021-08-19 10:15:03,232.232 /opt/conda/lib/python3.7/site-packages/evalml/automl/automl_search.py] \t\t\tFold 1: Log Loss Binary score: 0.462\n",
      "[D 2021-08-19 10:15:03,232.232 /opt/conda/lib/python3.7/site-packages/evalml/automl/automl_search.py] \t\tTraining and scoring on fold 2\n",
      "[D 2021-08-19 10:15:03,233.233 /opt/conda/lib/python3.7/site-packages/evalml/automl/automl_search.py] \t\t\tFold 2: starting training\n",
      "[D 2021-08-19 10:15:03,233.233 /opt/conda/lib/python3.7/site-packages/evalml/automl/automl_search.py] \t\t\tFold 2: finished training\n",
      "[D 2021-08-19 10:15:03,233.233 /opt/conda/lib/python3.7/site-packages/evalml/automl/automl_search.py] \t\t\tFold 2: Optimal threshold found (0.317)\n",
      "[D 2021-08-19 10:15:03,233.233 /opt/conda/lib/python3.7/site-packages/evalml/automl/automl_search.py] \t\t\tFold 2: Scoring trained pipeline\n",
      "[D 2021-08-19 10:15:03,233.233 /opt/conda/lib/python3.7/site-packages/evalml/automl/automl_search.py] \t\t\tFold 2: Log Loss Binary score: 0.465\n",
      "[I 2021-08-19 10:15:03,234.234 /opt/conda/lib/python3.7/site-packages/evalml/automl/automl_search.py] \tFinished cross validation - mean Log Loss Binary: 0.462\n"
     ]
    },
    {
     "name": "stdout",
     "output_type": "stream",
     "text": [
      "LightGBM Classifier w/ Imputer:\n",
      "\tStarting cross validation\n",
      "\tFinished cross validation - mean Log Loss Binary: 0.386\n"
     ]
    },
    {
     "name": "stderr",
     "output_type": "stream",
     "text": [
      "[I 2021-08-19 10:15:05,255.255 /opt/conda/lib/python3.7/site-packages/evalml/automl/automl_search.py] LightGBM Classifier w/ Imputer:\n",
      "[I 2021-08-19 10:15:05,258.258 /opt/conda/lib/python3.7/site-packages/evalml/automl/automl_search.py] \tStarting cross validation\n",
      "[D 2021-08-19 10:15:05,261.261 /opt/conda/lib/python3.7/site-packages/evalml/automl/automl_search.py] \t\tTraining and scoring on fold 0\n",
      "[D 2021-08-19 10:15:05,261.261 /opt/conda/lib/python3.7/site-packages/evalml/automl/automl_search.py] \t\t\tFold 0: starting training\n",
      "[D 2021-08-19 10:15:05,261.261 /opt/conda/lib/python3.7/site-packages/evalml/automl/automl_search.py] \t\t\tFold 0: finished training\n",
      "[D 2021-08-19 10:15:05,261.261 /opt/conda/lib/python3.7/site-packages/evalml/automl/automl_search.py] \t\t\tFold 0: Optimal threshold found (0.333)\n",
      "[D 2021-08-19 10:15:05,262.262 /opt/conda/lib/python3.7/site-packages/evalml/automl/automl_search.py] \t\t\tFold 0: Scoring trained pipeline\n",
      "[D 2021-08-19 10:15:05,262.262 /opt/conda/lib/python3.7/site-packages/evalml/automl/automl_search.py] \t\t\tFold 0: Log Loss Binary score: 0.377\n",
      "[D 2021-08-19 10:15:05,262.262 /opt/conda/lib/python3.7/site-packages/evalml/automl/automl_search.py] \t\tTraining and scoring on fold 1\n",
      "[D 2021-08-19 10:15:05,262.262 /opt/conda/lib/python3.7/site-packages/evalml/automl/automl_search.py] \t\t\tFold 1: starting training\n",
      "[D 2021-08-19 10:15:05,262.262 /opt/conda/lib/python3.7/site-packages/evalml/automl/automl_search.py] \t\t\tFold 1: finished training\n",
      "[D 2021-08-19 10:15:05,262.262 /opt/conda/lib/python3.7/site-packages/evalml/automl/automl_search.py] \t\t\tFold 1: Optimal threshold found (0.343)\n",
      "[D 2021-08-19 10:15:05,262.262 /opt/conda/lib/python3.7/site-packages/evalml/automl/automl_search.py] \t\t\tFold 1: Scoring trained pipeline\n",
      "[D 2021-08-19 10:15:05,263.263 /opt/conda/lib/python3.7/site-packages/evalml/automl/automl_search.py] \t\t\tFold 1: Log Loss Binary score: 0.379\n",
      "[D 2021-08-19 10:15:05,263.263 /opt/conda/lib/python3.7/site-packages/evalml/automl/automl_search.py] \t\tTraining and scoring on fold 2\n",
      "[D 2021-08-19 10:15:05,263.263 /opt/conda/lib/python3.7/site-packages/evalml/automl/automl_search.py] \t\t\tFold 2: starting training\n",
      "[D 2021-08-19 10:15:05,263.263 /opt/conda/lib/python3.7/site-packages/evalml/automl/automl_search.py] \t\t\tFold 2: finished training\n",
      "[D 2021-08-19 10:15:05,263.263 /opt/conda/lib/python3.7/site-packages/evalml/automl/automl_search.py] \t\t\tFold 2: Optimal threshold found (0.340)\n",
      "[D 2021-08-19 10:15:05,263.263 /opt/conda/lib/python3.7/site-packages/evalml/automl/automl_search.py] \t\t\tFold 2: Scoring trained pipeline\n",
      "[D 2021-08-19 10:15:05,263.263 /opt/conda/lib/python3.7/site-packages/evalml/automl/automl_search.py] \t\t\tFold 2: Log Loss Binary score: 0.402\n",
      "[I 2021-08-19 10:15:05,263.263 /opt/conda/lib/python3.7/site-packages/evalml/automl/automl_search.py] \tFinished cross validation - mean Log Loss Binary: 0.386\n"
     ]
    },
    {
     "name": "stdin",
     "output_type": "stream",
     "text": [
      "\n",
      "Do you really want to exit search (y/n)?  y\n"
     ]
    },
    {
     "name": "stdout",
     "output_type": "stream",
     "text": [
      "Exiting AutoMLSearch.\n",
      "\n",
      "Search finished after 00:24            \n"
     ]
    },
    {
     "name": "stderr",
     "output_type": "stream",
     "text": [
      "[I 2021-08-19 10:15:17,232.232 /opt/conda/lib/python3.7/site-packages/evalml/automl/automl_search.py] Exiting AutoMLSearch.\n",
      "[I 2021-08-19 10:15:17,245.245 /opt/conda/lib/python3.7/site-packages/evalml/automl/automl_search.py] \n",
      "Search finished after 00:24            \n"
     ]
    },
    {
     "name": "stdout",
     "output_type": "stream",
     "text": [
      "Best pipeline: LightGBM Classifier w/ Imputer\n",
      "Best pipeline Log Loss Binary: 0.385990\n"
     ]
    },
    {
     "name": "stderr",
     "output_type": "stream",
     "text": [
      "[I 2021-08-19 10:15:18,135.135 /opt/conda/lib/python3.7/site-packages/evalml/automl/automl_search.py] Best pipeline: LightGBM Classifier w/ Imputer\n",
      "[I 2021-08-19 10:15:18,137.137 /opt/conda/lib/python3.7/site-packages/evalml/automl/automl_search.py] Best pipeline Log Loss Binary: 0.385990\n"
     ]
    }
   ],
   "source": [
    "automl.search()"
   ]
  },
  {
   "cell_type": "markdown",
   "metadata": {},
   "source": [
    "### Using best pipeline"
   ]
  },
  {
   "cell_type": "code",
   "execution_count": 13,
   "metadata": {},
   "outputs": [
    {
     "name": "stdout",
     "output_type": "stream",
     "text": [
      "CPU times: user 1.62 s, sys: 38.8 ms, total: 1.66 s\n",
      "Wall time: 598 ms\n"
     ]
    },
    {
     "name": "stderr",
     "output_type": "stream",
     "text": [
      "[D 2021-08-19 10:15:18,760.760 /opt/conda/lib/python3.7/site-packages/evalml/utils/gen_utils.py] Could not import class ProphetRegressor in get_importable_subclasses\n",
      "[D 2021-08-19 10:15:18,764.764 /opt/conda/lib/python3.7/site-packages/evalml/utils/gen_utils.py] Could not import class ProphetRegressor in get_importable_subclasses\n"
     ]
    },
    {
     "data": {
      "text/plain": [
       "pipeline = BinaryClassificationPipeline(component_graph={'Imputer': ['Imputer', 'X', 'y'], 'LightGBM Classifier': ['LightGBM Classifier', 'Imputer.x', 'y']}, parameters={'Imputer':{'categorical_impute_strategy': 'most_frequent', 'numeric_impute_strategy': 'mean', 'categorical_fill_value': None, 'numeric_fill_value': None}, 'LightGBM Classifier':{'boosting_type': 'gbdt', 'learning_rate': 0.1, 'n_estimators': 100, 'max_depth': 0, 'num_leaves': 31, 'min_child_samples': 20, 'n_jobs': -1, 'bagging_freq': 0, 'bagging_fraction': 0.9}}, random_seed=0)"
      ]
     },
     "execution_count": 13,
     "metadata": {},
     "output_type": "execute_result"
    }
   ],
   "source": [
    "%%time\n",
    "pipeline = automl.best_pipeline\n",
    "pipeline.fit(X_train, y_train)"
   ]
  },
  {
   "cell_type": "code",
   "execution_count": 14,
   "metadata": {},
   "outputs": [],
   "source": [
    "preds = pipeline.predict(X_test)"
   ]
  },
  {
   "cell_type": "code",
   "execution_count": 15,
   "metadata": {},
   "outputs": [
    {
     "ename": "NameError",
     "evalue": "name 'roc_auc_score' is not defined",
     "output_type": "error",
     "traceback": [
      "\u001b[0;31m---------------------------------------------------------------------------\u001b[0m",
      "\u001b[0;31mNameError\u001b[0m                                 Traceback (most recent call last)",
      "\u001b[0;32m/usr/local/bin/kernel-launchers/python/scripts/launch_ipykernel.py\u001b[0m in \u001b[0;36m<module>\u001b[0;34m\u001b[0m\n\u001b[0;32m----> 1\u001b[0;31m \u001b[0mprint\u001b[0m\u001b[0;34m(\u001b[0m\u001b[0;34m\"AUC score:\"\u001b[0m\u001b[0;34m,\u001b[0m\u001b[0mroc_auc_score\u001b[0m\u001b[0;34m(\u001b[0m\u001b[0my_test\u001b[0m\u001b[0;34m,\u001b[0m\u001b[0mpreds\u001b[0m\u001b[0;34m)\u001b[0m\u001b[0;34m)\u001b[0m\u001b[0;34m\u001b[0m\u001b[0;34m\u001b[0m\u001b[0m\n\u001b[0m\u001b[1;32m      2\u001b[0m \u001b[0morchest\u001b[0m\u001b[0;34m.\u001b[0m\u001b[0moutput\u001b[0m\u001b[0;34m(\u001b[0m\u001b[0mautoml\u001b[0m\u001b[0;34m,\u001b[0m\u001b[0mname\u001b[0m\u001b[0;34m=\u001b[0m\u001b[0;34m'automl'\u001b[0m\u001b[0;34m)\u001b[0m\u001b[0;34m\u001b[0m\u001b[0;34m\u001b[0m\u001b[0m\n",
      "\u001b[0;31mNameError\u001b[0m: name 'roc_auc_score' is not defined"
     ]
    }
   ],
   "source": [
    "print(\"AUC score:\",roc_auc_score(y_test,preds))\n",
    "orchest.output(automl,name='automl')"
   ]
  }
 ],
 "metadata": {
  "kernelspec": {
   "display_name": "Python 3",
   "language": "python",
   "name": "orchest-kernel-4e3e3b13-882e-47db-b8f2-03a87620ea0d"
  },
  "language_info": {
   "codemirror_mode": {
    "name": "ipython",
    "version": 3
   },
   "file_extension": ".py",
   "mimetype": "text/x-python",
   "name": "python",
   "nbconvert_exporter": "python",
   "pygments_lexer": "ipython3",
   "version": "3.7.6"
  }
 },
 "nbformat": 4,
 "nbformat_minor": 4
}
